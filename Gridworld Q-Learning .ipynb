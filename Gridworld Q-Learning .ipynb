{
 "cells": [
  {
   "cell_type": "markdown",
   "metadata": {},
   "source": [
    "### Simple Q-Learning Agents in Gridworld\n",
    "\n",
    "Author: Jacob Gordon \n"
   ]
  },
  {
   "cell_type": "code",
   "execution_count": 1,
   "metadata": {},
   "outputs": [],
   "source": [
    "#define Gridworld \n",
    "\n",
    "import numpy as np\n",
    "\n",
    "\n",
    "class Gridworld:\n",
    "    \n",
    "    def __init__(self):\n",
    "        #\"LEFT,RIGHT,UP,DOWN\"\n",
    "        self.actions = {0: (-1,0),1:(1,0),2:(0,1),3:(0,-1)}\n",
    "\n",
    "\n",
    "        self.board_length= 9\n",
    "        self.board_height= 6\n",
    "\n",
    "        self.obstacles = [i+2*self.board_length for i in range(8)]\n",
    "        self.done = False\n",
    "        self.goal = 8 + self.board_length * 5\n",
    "        self.start = 3 + self.board_length * 0\n",
    "        self.score = 0\n",
    "        self.player = self.start\n",
    "\n",
    "    def move(self,action):\n",
    "        state = self.player\n",
    "        new_state = (state + (self.actions[action][0] + self.board_length*self.actions[action][1]))\n",
    "        #if new state is valid\n",
    "        if(new_state not in self.obstacles and self.board_length * self.board_height > new_state > 0 ):\n",
    "            if(new_state ==self.goal):\n",
    "                self.done = True\n",
    "                self.score = 1\n",
    "               # print \"Winner!\"\n",
    "        else:\n",
    "            new_state = state\n",
    "            self.score = 0\n",
    "            #print \"You can't do that\"\n",
    "        self.player = new_state\n",
    "        #self.board()\n",
    "        return (new_state,self.score,self.done)\n",
    "    def reset(self,e):\n",
    "        \n",
    "        self.done = False\n",
    "        self.score = 0\n",
    "        self.player = self.start\n",
    "        self.obstacles = self.obstacles if e < 1000 else [i+2*self.board_length for i in range(1,9)]\n",
    "        #print self.player,self.goal\n",
    "        #self.board()\n",
    "        return self.player\n",
    "        \n",
    "    def board(self):\n",
    "        state = self.player\n",
    "        \n",
    "        #go through every row, then every element in that row\n",
    "        #Format it into a string, and print to console\n",
    "        s = \"\"\n",
    "        board = []\n",
    "        for i in range(self.board_length*self.board_height):\n",
    "            #print(i,j)\n",
    "            if (i % 9 == 0 ):\n",
    "                \n",
    "                board.append(s)\n",
    "                s = \"\"\n",
    "            if i in self.obstacles:\n",
    "                s+= \"[X]\\t\"\n",
    "            elif i == self.player:\n",
    "                s+=\"[A]\\t\"\n",
    "                print\n",
    "            elif i == self.goal:\n",
    "                s+=\"[G]\\t\"\n",
    "            elif i == self.start:\n",
    "                s+=\"[S]\\t\"\n",
    "            else:\n",
    "                s+=\"[ ]\\t\"\n",
    "        board.append(s)\n",
    "        for i in board[::-1]: print i\n",
    "        print('\\n')"
   ]
  },
  {
   "cell_type": "markdown",
   "metadata": {},
   "source": [
    "## Part 1 : Simple Q-Learning Agent"
   ]
  },
  {
   "cell_type": "code",
   "execution_count": 23,
   "metadata": {},
   "outputs": [],
   "source": [
    "\n",
    "\n",
    "#Implement Q-learning Algorithm 1 for solving Gridworld\n",
    "\n",
    "#epsilon-greedy policy : at each step with a small probability epsilon[0,1] a random action is taken, and with probability 1 epsilon an action maximixing current estiamte q is taken\n",
    "\n",
    "import random\n",
    "import numpy as np\n",
    "import time\n",
    "\n",
    "\n",
    "env = Gridworld()\n",
    "A = env.actions\n",
    "\n",
    "random.seed(41)\n",
    "\n",
    "alpha = 0.4\n",
    "epsilon = 0.2\n",
    "gamma = 0.95\n",
    "n_episodes = 2000\n",
    "n_moves = 0\n",
    "\n",
    "\n",
    "#Initialize State and Q\n",
    "Q = np.zeros([env.board_length*env.board_height,len(env.actions)])\n",
    "S = range(env.board_length*env.board_height)\n",
    "\n",
    "plot = []\n",
    "for e in range(n_episodes):\n",
    "    s = env.reset(e)\n",
    "    done = False\n",
    "    n_moves = 0\n",
    "    while True:\n",
    "        a = random.choice(A.keys()) if random.uniform(0,1) <= epsilon else np.argmax(Q[s])\n",
    "        s_next, reward, done = env.move(a)\n",
    "        Q[s][a] =  Q[s][a] + alpha * ( reward + gamma * np.max(Q[s_next]) - Q[s][a])\n",
    "        s = s_next\n",
    "        n_moves +=1\n",
    "        if done:\n",
    "            break\n",
    "    #print e, np.mean(Q)\n",
    "    plot.append([e,np.mean(Q)])\n",
    "\n",
    "\n"
   ]
  },
  {
   "cell_type": "markdown",
   "metadata": {},
   "source": [
    "### Model Evaluation\n",
    "\n",
    "- Model improves total reward over time\n",
    "- When board changes at game 2000, quickly adapts and improves total score"
   ]
  },
  {
   "cell_type": "code",
   "execution_count": 17,
   "metadata": {},
   "outputs": [
    {
     "data": {
      "image/png": "[encoded data removed]",
      "text/plain": [
       "<Figure size 432x288 with 1 Axes>"
      ]
     },
     "metadata": {
      "needs_background": "light"
     },
     "output_type": "display_data"
    }
   ],
   "source": [
    "%matplotlib inline\n",
    "import matplotlib.pyplot as plt\n",
    "\n",
    "plt.plot(plot,'o',markersize=0.5)\n",
    "plt.xlabel('# of Games Played')\n",
    "plt.ylabel('Average of Q-Function')\n",
    "plt.axis([0,2500,0,1], dotwidth=0.2)\n",
    "plt.show()"
   ]
  },
  {
   "cell_type": "markdown",
   "metadata": {},
   "source": [
    "## Part 2 : Asynchronous Q-Learning W/ Multiple Agents"
   ]
  },
  {
   "cell_type": "code",
   "execution_count": 2,
   "metadata": {},
   "outputs": [],
   "source": [
    "from threading import Thread\n",
    "from threading import Semaphore\n",
    "## defining our agent as a class that can be threaded\n",
    "\n",
    "\n",
    "import random\n",
    "import numpy as np\n",
    "import time\n",
    "\n",
    "env = Gridworld()\n",
    "A = env.actions\n",
    "random.seed(41)\n",
    "alpha = .2\n",
    "epsilon = .5\n",
    "gamma = 0.95\n",
    "n_episodes = 2250\n",
    "n_moves = 0\n",
    "AsyncUpdate = 5\n",
    "\n",
    "\n",
    "#Initialize State and Q\n",
    "Q = np.zeros([env.board_length*env.board_height,len(env.actions)])\n",
    "S = range(env.board_length*env.board_height)\n",
    "T = 0\n",
    "#make writing to global Q thread safe with Semaphore\n",
    "writingQ = Semaphore(1)\n",
    "\n",
    "class agent(Thread):\n",
    "    def __init__(self,alpha, epsilon,gamma, n_episodes,S,A,env):\n",
    "        Thread.__init__(self)\n",
    "        self.alpha = alpha\n",
    "        self.epsilon = epsilon\n",
    "        self.gamma = gamma\n",
    "        self.n_episodes=n_episodes\n",
    "        self.delta_Q = np.zeros([self.env.board_length*self.env.board_height,len(self.env.actions)])\n",
    "        self.S = S\n",
    "        self.A = A\n",
    "        self.plot = []\n",
    "        self.env = env\n",
    "\n",
    "    def run(self):\n",
    "        for e in range(self.n_episodes):\n",
    "            s = self.env.reset(e)\n",
    "            done = False\n",
    "            n_moves = 0\n",
    "            while True:\n",
    "                a = random.choice(self.A.keys()) if random.uniform(0,1) <= self.epsilon else np.argmax(Q[s])\n",
    "                s_next, reward, done = self.env.move(a)\n",
    "                self.delta_Q[s][a] =self.delta_Q[s][a] + self.alpha * ( reward + self.gamma * np.max(Q[s_next]) - Q[s][a])\n",
    "                s = s_next\n",
    "                \n",
    "                if n_moves % AsyncUpdate == 0:\n",
    "                    self.update()\n",
    "                if done:\n",
    "                    self.update()\n",
    "                    break\n",
    "                n_moves +=1\n",
    "                #T += 1\n",
    "            self.plot.append([e, np.mean(Q)])\n",
    "    def update(self):\n",
    "        writingQ.acquire()\n",
    "        for i in range(54):\n",
    "            for j in range(4):\n",
    "                Q[i][j] = Q[i][j] + self.alpha * self.delta_Q[i][j]\n",
    "        self.delta_Q = np.zeros([self.env.board_length*self.env.board_height,len(self.env.actions)])\n",
    " \n",
    "        writingQ.release()\n",
    "\n"
   ]
  },
  {
   "cell_type": "code",
   "execution_count": null,
   "metadata": {},
   "outputs": [],
   "source": [
    "a1 = agent(alpha,epsilon,gamma,n_episodes,S,A,env)\n",
    "a2 = agent(alpha,epsilon,gamma,n_episodes,S,A,env)\n",
    "a3 = agent(alpha,epsilon,gamma,n_episodes,S,A,env)\n",
    "\n",
    "\n",
    "a1.start()\n",
    "a2.start()\n",
    "a3.start()\n",
    "\n",
    "a1.join()\n",
    "a2.join()\n",
    "a3.join()"
   ]
  },
  {
   "cell_type": "markdown",
   "metadata": {},
   "source": [
    "## Model Evaluation\n",
    "\n",
    "- Plots of the three agents performance overtime\n",
    "- Model outperforms the single agent, and does not have as dramatic of a decrease in performance after the changing board!"
   ]
  },
  {
   "cell_type": "code",
   "execution_count": 3,
   "metadata": {},
   "outputs": [
    {
     "data": {
      "image/png": "[encoded data removed]",
      "text/plain": [
       "<Figure size 432x288 with 1 Axes>"
      ]
     },
     "metadata": {
      "needs_background": "light"
     },
     "output_type": "display_data"
    }
   ],
   "source": [
    "%matplotlib inline\n",
    "import matplotlib.pyplot as plt\n",
    "\n",
    "\n",
    "\n",
    "plt.plot(a1.plot,'o',markersize=0.5)\n",
    "plt.xlabel('# of Games Played')\n",
    "plt.ylabel('Average of Q-Function')\n",
    "plt.axis([0,2500,0,1], dotwidth=0.2)\n",
    "plt.show()\n"
   ]
  },
  {
   "cell_type": "code",
   "execution_count": 15,
   "metadata": {},
   "outputs": [],
   "source": [
    "env1 = Gridworld()\n",
    "env2 = Gridworld()\n",
    "\n",
    "a1_1 = agent(alpha,epsilon,gamma,n_episodes,S,A,env1)\n",
    "a1_2 = agent(alpha,epsilon,gamma,n_episodes,S,A,env1)\n",
    "a1_3 = agent(alpha,epsilon,gamma,n_episodes,S,A,env1)\n",
    "a1_4 = agent(alpha,epsilon,gamma,n_episodes,S,A,env1)\n",
    "a1_5 = agent(alpha,epsilon,gamma,n_episodes,S,A,env1)\n",
    "\n",
    "\n",
    "a2_1 =agent(alpha,epsilon,gamma,n_episodes,S,A,env2)\n",
    "a2_2 =agent(alpha,epsilon,gamma,n_episodes,S,A,env2)\n",
    "a2_3 =agent(alpha,epsilon,gamma,n_episodes,S,A,env2)\n",
    "a2_4 =agent(alpha,epsilon,gamma,n_episodes,S,A,env2)"
   ]
  },
  {
   "cell_type": "code",
   "execution_count": 16,
   "metadata": {},
   "outputs": [],
   "source": [
    "Q = np.zeros([env.board_length*env.board_height,len(env.actions)])\n",
    "\n",
    "a1_1.start()\n",
    "a1_2.start()\n",
    "a1_3.start()\n",
    "a1_4.start()\n",
    "a1_5.start()\n",
    "\n",
    "\n",
    "a1_1.join()\n",
    "a1_2.join()\n",
    "a1_3.join()\n",
    "a1_4.join()\n",
    "a1_5.join()\n",
    "\n",
    "\n"
   ]
  },
  {
   "cell_type": "code",
   "execution_count": 17,
   "metadata": {},
   "outputs": [],
   "source": [
    "Q = np.zeros([env.board_length*env.board_height,len(env.actions)])\n",
    "\n",
    "a2_1.start()\n",
    "a2_2.start()\n",
    "a2_3.start()\n",
    "a2_4.start()\n",
    "\n",
    "\n",
    "a2_1.join()\n",
    "a2_2.join()\n",
    "a2_3.join()\n",
    "a2_4.join()"
   ]
  },
  {
   "cell_type": "code",
   "execution_count": 18,
   "metadata": {},
   "outputs": [
    {
     "data": {
      "image/png": "[encoded data removed]",
      "text/plain": [
       "<Figure size 432x288 with 1 Axes>"
      ]
     },
     "metadata": {
      "needs_background": "light"
     },
     "output_type": "display_data"
    },
    {
     "data": {
      "image/png": "[encoded data removed]",
      "text/plain": [
       "<Figure size 432x288 with 1 Axes>"
      ]
     },
     "metadata": {
      "needs_background": "light"
     },
     "output_type": "display_data"
    }
   ],
   "source": [
    "plt.plot(a1_1.plot,'o',markersize=0.5)\n",
    "plt.xlabel('# of Games Played')\n",
    "plt.ylabel('Average of Q-Function')\n",
    "plt.axis([0,2500,0,1], dotwidth=0.2)\n",
    "plt.show()\n",
    "\n",
    "plt.plot(a2_1.plot,'o',markersize=0.5)\n",
    "plt.xlabel('# of Games Played')\n",
    "plt.ylabel('Average of Q-Function')\n",
    "plt.axis([0,2500,0,1], dotwidth=0.2)\n",
    "plt.show()"
   ]
  },
  {
   "cell_type": "code",
   "execution_count": null,
   "metadata": {},
   "outputs": [],
   "source": []
  }
 ],
 "metadata": {
  "kernelspec": {
   "display_name": "Python 2",
   "language": "python",
   "name": "python2"
  },
  "language_info": {
   "codemirror_mode": {
    "name": "ipython",
    "version": 2
   },
   "file_extension": ".py",
   "mimetype": "text/x-python",
   "name": "python",
   "nbconvert_exporter": "python",
   "pygments_lexer": "ipython2",
   "version": "2.7.15"
  }
 },
 "nbformat": 4,
 "nbformat_minor": 2
}
